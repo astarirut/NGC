{
  "cells": [
    {
      "cell_type": "markdown",
      "metadata": {
        "id": "lCHIkZZHY7w9"
      },
      "source": [
        "#### 1. Buatlah fungsi untuk menghitung `jumlah kalori terbakar` berdasarkan `jenis kegiatan` dan `durasi dalam menit`, dengan ketentuan di bawah:\n",
        "\n",
        "<div align=\"center\">\n",
        "\n",
        "|Kegiatan|Kalori Terbakar per Menit|\n",
        "|--|--|\n",
        "|Berlari|10|\n",
        "|Bersepeda|8|\n",
        "|Berenang|12|\n",
        "\n",
        "\n",
        "</div>\n",
        "\n",
        "contoh:\n",
        "```\n",
        ">>> input: calories_burned(duration=60, exercise='berenang')\n",
        ">>> output: 720\n",
        "\n",
        ">>> input: calories_burned(duration=15, exercise='berlari')\n",
        ">>> output: 150\n",
        "\n",
        ">>> input:calories_burned(duration=20, exercise='bersepeda')\n",
        ">>> output: 160\n",
        "```"
      ]
    },
    {
      "cell_type": "code",
      "execution_count": 22,
      "metadata": {
        "id": "ExBJkWTq3yE3"
      },
      "outputs": [
        {
          "name": "stdout",
          "output_type": "stream",
          "text": [
            "Kalori terbakar untuk Bersepeda selama 20 menit adalah 160 kalori\n",
            "Kalori terbakar untuk Berenang selama 60 menit adalah 720 kalori\n",
            "Kalori terbakar untuk Berlari selama 15 menit adalah 150 kalori\n"
          ]
        }
      ],
      "source": [
        "# code here\n",
        "# Membuat function Calculator_Kalori\n",
        "def Calculator_kalori(kegiatan, duration):\n",
        "    # Menghitung kalori yang terbakar berdasarkan jenis kegiatan yang dilakukan\n",
        "    kalori_permenit = {\n",
        "        'Berlari' : 10,\n",
        "        'Bersepeda' : 8,\n",
        "        'Berenang' : 12\n",
        "    }\n",
        "    # Mengalikan kegiatan tersebut dengan durasi kegiatan untuk menghitung total kalori\n",
        "    if kegiatan in kalori_permenit:\n",
        "        kalori_terbakar = kalori_permenit[kegiatan] * duration\n",
        "        return kalori_terbakar\n",
        "    else:\n",
        "        # Mengembalikan jika jenis kegiatan tidak ada dalam daftar\n",
        "        return \"kegiatan tidak dikenal\"\n",
        "\n",
        "# Cara penggunaan Function\n",
        "kegiatan = 'Bersepeda'\n",
        "durasi = 20\n",
        "print(f\"Kalori terbakar untuk {kegiatan} selama {durasi} menit adalah {Calculator_kalori(kegiatan, durasi)} kalori\")\n",
        "\n",
        "kegiatan = 'Berenang'\n",
        "durasi = 60\n",
        "print(f\"Kalori terbakar untuk {kegiatan} selama {durasi} menit adalah {Calculator_kalori(kegiatan, durasi)} kalori\")\n",
        "\n",
        "kegiatan = 'Berlari'\n",
        "durasi = 15\n",
        "print(f\"Kalori terbakar untuk {kegiatan} selama {durasi} menit adalah {Calculator_kalori(kegiatan, durasi)} kalori\")"
      ]
    },
    {
      "cell_type": "markdown",
      "metadata": {
        "id": "uVYOZdpMaRC6"
      },
      "source": [
        "#### 2. Buat function untuk menghitung `total kalori terbakar` dari `beberapa sesi latihan`, manfaatkan fungsi yang telah dibuat sebelumnya di dalam function ini.\n",
        "\n",
        "Notes:\n",
        "- Dalam kasus ini diasumsikan setiap sesi latihan memiliki durasi yang sama (`each_session_duration`).\n",
        "- Function yang dibuat memiliki input argumen berupa: `n-length jenis latihan yang dilakukan di setiap sesinya` dan `each_session_duration`\n",
        "- Manfaatkan `*args` variable-length input untuk memasukkan jenis latihan.\n",
        "- Manfaatkan function yang telah dibuat sebelumnya untuk mengitung kalori terbakar di setiap sesi\n",
        "\n",
        "Contoh:\n",
        "```\n",
        ">>> input: total_session_burned_cal('berenang', 'bersepeda', each_session_duration=10)\n",
        ">>> output: 200\n",
        "\n",
        "penjelasan:\n",
        "kegiatan berenang dilakukan 10 menit dan kegiatan bersepeda dilakukan 10 menit dapat membakar total 200 kalori\n",
        "\n",
        ">>> input: total_session_burned_cal('berenang', 'berlari', 'bersepeda', each_session_duration=5)\n",
        ">>> output: 150\n",
        "\n",
        "penjelasan:\n",
        "kegiatan berenang, berlari dan bersepeda yang masing-masing dilakukan 5 menit dapat membakar 150 kalori.\n",
        "```"
      ]
    },
    {
      "cell_type": "code",
      "execution_count": 29,
      "metadata": {
        "id": "OHs41ThP3ze-"
      },
      "outputs": [
        {
          "name": "stdout",
          "output_type": "stream",
          "text": [
            "Total kalori terbakar adalah 200 kalori\n"
          ]
        }
      ],
      "source": [
        "# code here\n",
        "# Membuat function Total kalori yang terbakar\n",
        "def Total_kalori_terbakar(each_session_duration, *jenis_kegiatan):  # Menggunakan *args\n",
        "    # Menginisiasi total kalori sebelum dihitung\n",
        "    total_kalori = 0\n",
        "    # Looping untuk menghitung total kalori yang terbakar dari berbagai jenis kegiatan selama durasi tertentu\n",
        "    for latihan in jenis_kegiatan:\n",
        "        kalori_terbakar = Calculator_kalori(latihan, each_session_duration)\n",
        "        total_kalori += kalori_terbakar\n",
        "    return total_kalori\n",
        "\n",
        "each_session_duration = 10                   # Durasi setiap sesi latihan dalam menit\n",
        "jenis_kegiatan = ['Bersepeda', 'Berenang']\n",
        "print(f\"Total kalori terbakar adalah {Total_kalori_terbakar(each_session_duration, *jenis_kegiatan)} kalori\")\n"
      ]
    },
    {
      "cell_type": "markdown",
      "metadata": {
        "id": "rvST1Pn9h6QX"
      },
      "source": [
        "#### 3. Lakukan Unit Testing pada kedua function yang telah dibuat.\n",
        "\n",
        "  ***Notes:***\n",
        "  \n",
        "  Pengujian Unit testing dapat dilakukan pada cell .ipynb dengan cara:\n",
        "- Cukup buat cell baru dan tulis code kerangka unit test di cell tersebut dan jalankan langsung di cell tanpa menggunakan if __name__()=='__main__'.\n",
        "\n",
        "- Sebagai pengganti idiom ini:\n",
        "```\n",
        "`if __name__=='__main__'`:\n",
        "   unittest.main()\n",
        "```\n",
        "dapat menggunakan:\n",
        "```\n",
        "unittest.main(argv=[''], exit=False)\n",
        "```"
      ]
    },
    {
      "cell_type": "code",
      "execution_count": null,
      "metadata": {
        "id": "-uZD75JH31-Y"
      },
      "outputs": [],
      "source": [
        "# code here\n",
        "def some_function():\n",
        "    assertEqual()\n",
        "def main()\n",
        "\n",
        "unittest.main(argv=[''], exit=False)"
      ]
    }
  ],
  "metadata": {
    "colab": {
      "provenance": []
    },
    "kernelspec": {
      "display_name": "Python 3",
      "name": "python3"
    },
    "language_info": {
      "codemirror_mode": {
        "name": "ipython",
        "version": 3
      },
      "file_extension": ".py",
      "mimetype": "text/x-python",
      "name": "python",
      "nbconvert_exporter": "python",
      "pygments_lexer": "ipython3",
      "version": "3.12.3"
    }
  },
  "nbformat": 4,
  "nbformat_minor": 0
}
